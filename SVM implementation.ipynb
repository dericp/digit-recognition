{
 "cells": [
  {
   "cell_type": "code",
   "execution_count": 58,
   "metadata": {
    "collapsed": false
   },
   "outputs": [],
   "source": [
    "import numpy as np\n",
    "import pandas as pd\n",
    "import math\n",
    "\n",
    "df_train = pd.read_csv(\"train.csv\", nrows = 1000)\n",
    "df_train['intercept'] = 1\n",
    "trainingData = df_train.drop(\"label\", axis = 1).values\n",
    "trainingResults = df_train[\"label\"].values\n",
    "df_test = pd.read_csv(\"test.csv\", nrows = 500)\n",
    "df_test['intercept'] = 1\n",
    "\n",
    "stepSizes = [0.8, 0.001, 0.00001]\n",
    "Cvals = [0.1, 1, 10]\n",
    "EPOCHS = 10\n",
    "\n",
    "\n",
    "def stochGradDesc(x, y, w, classVal, stepsize, C, passCount):\n",
    "    w_t = np.copy(w)\n",
    "    w_t1 = [0 for i in range(len(w))]\n",
    "    for epoch in range(passCount):\n",
    "        #if (epoch == passCount - 1):\n",
    "        #    avgWeights = [0 for i in range(len(w))]\n",
    "        for point in range(len(x)):\n",
    "            # is this point in the class we are looking for?\n",
    "            if y[point] == classVal:\n",
    "                y_i = 1\n",
    "            else:\n",
    "                y_i = -1\n",
    "            # update step\n",
    "            partial = np.multiply(C * max(0, 1 - y_i * np.dot(x[point], w_t)), np.multiply(y_i, x[point]))\n",
    "            partial = np.subtract(partial, np.multiply(2, w_t))\n",
    "            partial = np.multiply(stepsize, partial)\n",
    "            w_t1 = np.add(w_t, partial)\n",
    "            #if (epoch == passCount - 1):\n",
    "            #    np.add(avgWeights, w_t1)\n",
    "            w_t = np.copy(w_t1)\n",
    "    return w_t"
   ]
  },
  {
   "cell_type": "code",
   "execution_count": 62,
   "metadata": {
    "collapsed": false,
    "scrolled": false
   },
   "outputs": [
    {
     "name": "stdout",
     "output_type": "stream",
     "text": [
      "Training error for class 0 : 0.932\n",
      "Training error for class 1 : 0.908\n",
      "Training error for class 2 : 0.883\n",
      "Training error for class 3 : 0.91\n",
      "Training error for class 4 : 0.822\n",
      "Training error for class 5 : 0.864\n",
      "Training error for class 6 : 0.864\n",
      "Training error for class 7 : 0.895\n",
      "Training error for class 8 : 0.78\n",
      "Training error for class 9 : 0.913\n"
     ]
    }
   ],
   "source": [
    "# Training error each class\n",
    "for classVal in range(10):\n",
    "    initWeights = [0 for i in range(len(trainingData[0]))]\n",
    "    weights = stochGradDesc(trainingData, trainingResults, initWeights, classVal, 0.000000001, 1000, 10)\n",
    "    misclassified = 0\n",
    "    for point in range(len(trainingData)):\n",
    "        pointDims = trainingData[point]\n",
    "        if trainingResults[point] == classVal:\n",
    "            y_i = 1\n",
    "        else:\n",
    "            y_i = -1\n",
    "        #print(y_i, np.dot(pointDims, weights))\n",
    "        if (y_i * np.dot(pointDims, weights))>= 1:\n",
    "            misclassified += 1\n",
    "    print(\"Training error for class\", classVal, \":\", misclassified/len(trainingData))"
   ]
  }
 ],
 "metadata": {
  "anaconda-cloud": {},
  "kernelspec": {
   "display_name": "Python [conda root]",
   "language": "python",
   "name": "conda-root-py"
  },
  "language_info": {
   "codemirror_mode": {
    "name": "ipython",
    "version": 3
   },
   "file_extension": ".py",
   "mimetype": "text/x-python",
   "name": "python",
   "nbconvert_exporter": "python",
   "pygments_lexer": "ipython3",
   "version": "3.5.2"
  }
 },
 "nbformat": 4,
 "nbformat_minor": 1
}
