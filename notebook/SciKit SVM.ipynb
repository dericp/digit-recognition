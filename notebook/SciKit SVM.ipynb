{
 "cells": [
  {
   "cell_type": "code",
   "execution_count": null,
   "metadata": {
    "collapsed": false
   },
   "outputs": [],
   "source": [
    "import numpy as np\n",
    "import pandas as pd\n",
    "import math\n",
    "from sklearn import svm\n",
    "\n",
    "df_train = pd.read_csv(\"../data/mnist_train.csv\").sample(n=10000)\n",
    "df_train['intercept'] = 1\n",
    "trainingData = df_train.drop(\"label\", axis = 1).values\n",
    "trainingResults = df_train[\"label\"].values\n",
    "df_test = pd.read_csv(\"../data/mnist_test.csv\").sample(n=2000)\n",
    "df_test['intercept'] = 1\n",
    "testData = df_test.drop(\"label\", axis=1).values\n",
    "testResults = df_test[\"label\"].values\n",
    "\n",
    "\n",
    "Cvals = [1, 10, 100, 1000, 5000, 10000]\n",
    "\n",
    "rbfSVMErrors = []\n",
    "linearSVMErrors = []\n",
    "\n",
    "for i in range(len(Cvals)):\n",
    "    Cval = Cvals[i]\n",
    "    # build the validation set\n",
    "    # build the validation set\n",
    "    start_index = i * len(trainingData)//len(Cvals)\n",
    "    end_index = len(trainingData)//len(Cvals) * (i + 1)\n",
    "    \n",
    "    validation_data = trainingData[start_index:end_index]\n",
    "    validation_classifications = trainingResults[start_index:end_index]\n",
    "\n",
    "    # build the model\n",
    "    model = np.concatenate((trainingData[:start_index], trainingData[end_index:]), axis=0)\n",
    "    model_classifications = np.concatenate((trainingResults[:start_index], trainingResults[end_index:]), axis=0)\n",
    "    \n",
    "    svm1 = svm.SVC(C=Cval)\n",
    "    svm1.fit(model, model_classifications)\n",
    "    rbfScore = svm1.score(validation_data, validation_classifications)\n",
    "    rbfSVMErrors.append(1 - rbfScore)\n",
    "\n",
    "    svm3 = svm.LinearSVC(C=Cval)\n",
    "    svm3.fit(model, model_classifications)\n",
    "    linearScore = svm3.score(validation_data, validation_classifications)\n",
    "    linearSVMErrors.append(1 - linearScore)"
   ]
  },
  {
   "cell_type": "code",
   "execution_count": null,
   "metadata": {
    "collapsed": false
   },
   "outputs": [],
   "source": [
    "from matplotlib import pyplot as plt\n",
    "\n",
    "plt.plot(Cvals, rbfSVMErrors)\n",
    "plt.title(\"C vs. Validation Error on RBF SVMs\")\n",
    "plt.xscale('log')\n",
    "plt.xlabel(\"C\")\n",
    "plt.ylabel(\"error\")\n",
    "plt.savefig('rbf_svm_CvsError.png')\n",
    "plt.show()\n",
    "\n",
    "plt.plot(Cvals, linearSVMErrors)\n",
    "plt.title(\"C vs. Validation Error on Linear SVMs\")\n",
    "plt.xscale('log')\n",
    "plt.xlabel(\"C\")\n",
    "plt.ylabel(\"error\")\n",
    "plt.savefig('linear_svm_CvsError.png')\n",
    "plt.show()"
   ]
  },
  {
   "cell_type": "markdown",
   "metadata": {},
   "source": [
    "We found that the Linear SVM had a markedly lower validation error than the RBF SVM. We were surprised by this. The best C value, according to our cross-validation, was C = 1, but we're skeptical that variations in validation error are due to variations in validation blocks rather than any impact our C value might have because the differences in error are so small. Thus, we'll build a Linear SVM model with C = 1 with our training set against the test set to get our test error."
   ]
  },
  {
   "cell_type": "code",
   "execution_count": 3,
   "metadata": {
    "collapsed": false
   },
   "outputs": [
    {
     "name": "stdout",
     "output_type": "stream",
     "text": [
      "The test error of the RBF SVM is 0.8865\n",
      "The test error of the Linear SVM is 0.1471\n"
     ]
    }
   ],
   "source": [
    "import numpy as np\n",
    "import pandas as pd\n",
    "import math\n",
    "from sklearn import svm\n",
    "\n",
    "df_train = pd.read_csv(\"../data/mnist_train.csv\").sample(n=20000)\n",
    "df_train['intercept'] = 1\n",
    "trainingData = df_train.drop(\"label\", axis = 1).values\n",
    "trainingResults = df_train[\"label\"].values\n",
    "df_test = pd.read_csv(\"../data/mnist_test.csv\")\n",
    "df_test['intercept'] = 1\n",
    "testData = df_test.drop(\"label\", axis=1).values\n",
    "testResults = df_test[\"label\"].values\n",
    "\n",
    "classifier = svm.SVC(C=100)\n",
    "classifier.fit(trainingData, trainingResults)\n",
    "print(\"The test error of the RBF SVM is\", 1 - classifier.score(testData, testResults))\n",
    "\n",
    "classifier = svm.LinearSVC(C=1)\n",
    "classifier.fit(trainingData, trainingResults)\n",
    "print(\"The test error of the Linear SVM is\", 1 - classifier.score(testData, testResults))"
   ]
  }
 ],
 "metadata": {
  "anaconda-cloud": {},
  "kernelspec": {
   "display_name": "Python [conda root]",
   "language": "python",
   "name": "conda-root-py"
  },
  "language_info": {
   "codemirror_mode": {
    "name": "ipython",
    "version": 3
   },
   "file_extension": ".py",
   "mimetype": "text/x-python",
   "name": "python",
   "nbconvert_exporter": "python",
   "pygments_lexer": "ipython3",
   "version": "3.5.2"
  }
 },
 "nbformat": 4,
 "nbformat_minor": 1
}
