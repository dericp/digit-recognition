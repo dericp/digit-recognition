{
 "cells": [
  {
   "cell_type": "code",
   "execution_count": 24,
   "metadata": {
    "collapsed": false
   },
   "outputs": [],
   "source": [
    "import numpy as np\n",
    "import pandas as pd\n",
    "from sklearn.neighbors import KNeighborsClassifier\n",
    "from matplotlib import pyplot as plt\n",
    "\n",
    "K_VALS = [1, 5, 25, 125, 625]\n",
    "df_train = pd.read_csv(\"train.csv\", nrows = 1000)\n",
    "df_train['intercept'] = 1\n",
    "trainingData = df_train.drop(\"label\", axis = 1).values\n",
    "trainingResults = df_train[\"label\"].values\n",
    "\n",
    "errors = []\n",
    "for i in range(len(K_VALS)):\n",
    "    k = K_VALS[i]\n",
    "    # build the validation set\n",
    "    start_index = i * len(trainingData)//len(K_VALS)\n",
    "    end_index = len(trainingData)//len(K_VALS) * (i + 1)\n",
    "\n",
    "    validation_data = trainingData[start_index:end_index]\n",
    "    validation_classifications = trainingResults[start_index:end_index]\n",
    "\n",
    "    # build the model\n",
    "    model = np.concatenate((trainingData[:start_index], trainingData[end_index:]), axis=0)\n",
    "    model_classifications = np.concatenate((trainingResults[:start_index], trainingResults[end_index:]), axis=0)\n",
    "    \n",
    "    classifier = KNeighborsClassifier(n_neighbors=k, weights='distance')\n",
    "    classifier.fit(model, model_classifications)\n",
    "    score = classifier.score(validation_data, validation_classifications)\n",
    "    errors.append(1 - score)\n",
    "\n",
    "plt.plot(K_VALS, errors)\n",
    "plt.title(\"K vs. Classification Error\")\n",
    "plt.xlabel(\"k value\")\n",
    "plt.xscale('log')\n",
    "plt.ylabel(\"classification error\")\n",
    "plt.savefig('k-nn-libraryimpl.png')\n",
    "plt.show()"
   ]
  }
 ],
 "metadata": {
  "anaconda-cloud": {},
  "kernelspec": {
   "display_name": "Python [conda root]",
   "language": "python",
   "name": "conda-root-py"
  },
  "language_info": {
   "codemirror_mode": {
    "name": "ipython",
    "version": 3
   },
   "file_extension": ".py",
   "mimetype": "text/x-python",
   "name": "python",
   "nbconvert_exporter": "python",
   "pygments_lexer": "ipython3",
   "version": "3.5.2"
  }
 },
 "nbformat": 4,
 "nbformat_minor": 1
}
