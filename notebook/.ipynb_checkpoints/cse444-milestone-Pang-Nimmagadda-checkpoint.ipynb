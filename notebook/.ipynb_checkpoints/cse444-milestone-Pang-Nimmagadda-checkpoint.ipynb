{
 "cells": [
  {
   "cell_type": "code",
   "execution_count": 5,
   "metadata": {
    "collapsed": false,
    "deletable": true,
    "editable": true
   },
   "outputs": [],
   "source": [
    "import pandas as pd\n",
    "import numpy as np\n",
    "import math\n",
    "\n",
    "\n",
    "VALIDATION_BLOCK_SIZE = 60\n",
    "kVals = [1, 5, 10, 50, 100]\n",
    "df_train = pd.read_csv(\"../data/train.csv\", nrows = 300)\n",
    "trainingData = df_train.drop(\"label\", axis = 1).values\n",
    "trainingResults = df_train[\"label\"].values\n",
    "df_test = pd.read_csv(\"../data/test.csv\", nrows = 300)\n",
    "\n",
    "\n",
    "# @param: point1, point2 - arrays of pixel data for two points\n",
    "# @return: euclidean distance between the two points\n",
    "# Note: features are unweighted\n",
    "def getDistance(point1, point2):\n",
    "    assert(len(point1) == len(point2))\n",
    "    distance = math.sqrt(\n",
    "        np.sum(np.square([point1[i] - point2[i] for i in range(len(point1))])))\n",
    "    return distance\n",
    "        \n",
    "# @param: point - array of pixel data from MNIST dataset relating to query point image\n",
    "# @param: data - the dataset to finding the k closest neighbors from\n",
    "# @param: k - number of numbers to find\n",
    "# @return: an array holding the k nearest neighbors of the query point, an array holding the respective distances\n",
    "def getKNN(point, data, k):\n",
    "    neighbors = []  # array holding indexes of the k closest neighbors\n",
    "    distances = [] # array holding distances of respective neighbors\n",
    "    for i in range(len(data)):\n",
    "        neighbors.append(i)\n",
    "        distances.append(getDistance(point, data[i]))\n",
    "        # Limit the number of neighbors to just k\n",
    "        if len(neighbors) > k:\n",
    "            # Invariant: neighbors, distances size is k + 1\n",
    "            sortedZip = sorted(zip(distances, neighbors))\n",
    "            neighbors = [neighbor for (distance, neighbor) in sortedZip]\n",
    "            distances = [distance for (distance, neighbor) in sortedZip]\n",
    "            neighbors.pop()\n",
    "            distances.pop()\n",
    "            #Invariant: neighbors, distances size is k\n",
    "    return neighbors, distances\n",
    "\n",
    "# @param: neighbors - array of indices of points\n",
    "# @param: results - array of output classifications\n",
    "# @param: distances - array of distances of each respective point in neighbors from a particular point\n",
    "# @return: a prediction of classification based off the classification with the lowest average distance from a point\n",
    "def makePrediction(neighbors, results, distances):\n",
    "    predictionMap = {}\n",
    "    for i in range(len(neighbors)):\n",
    "        neighbor = neighbors[i]\n",
    "        distance = distances[i]\n",
    "        neighborPrediction = results[neighbor]\n",
    "        # Create a dictionary relating each possible prediction to a list of distances from query point\n",
    "        if neighborPrediction not in predictionMap:\n",
    "            predictionMap[neighborPrediction] = []\n",
    "        predictionMap[neighborPrediction].append(distance)\n",
    "    # Relate each prediction to an average distance (among the neighbors)\n",
    "    for prediction in predictionMap:\n",
    "        predictionMap[prediction] = np.sum(predictionMap[prediction])/len(predictionMap[prediction])\n",
    "    return min(predictionMap, key = predictionMap.get)\n",
    "\n",
    "# @param: validationBlock - array of arrays holding point data for the validation set\n",
    "# @param: validationResults - array of integers corresponding to the respective classifications of the validation block\n",
    "# @param: nonValidationBlock - array of arrays holding point data for the training set\n",
    "# @param: nonValidationResults - array of integers corresponding to the respective classifications of the training block\n",
    "# @return: the ratio of incorrectly classified numbers in the validation set\n",
    "def getValidationError(validationBlock, validationResults, nonValidationBlock, nonValidationResults, k):\n",
    "    misclassified = 0\n",
    "    for i in range(len(validationBlock)):\n",
    "        point = validationBlock[i]\n",
    "        neighbors, distances = getKNN(point, nonValidationBlock, k)\n",
    "        prediction = makePrediction(neighbors, nonValidationResults, distances)\n",
    "        if prediction != validationResults[i]:\n",
    "            misclassified += 1\n",
    "    return misclassified/len(validationBlock)"
   ]
  },
  {
   "cell_type": "code",
   "execution_count": 6,
   "metadata": {
    "collapsed": false,
    "deletable": true,
    "editable": true,
    "scrolled": true
   },
   "outputs": [],
   "source": [
    "##### Run cross validation\n",
    "validationErrors = []\n",
    "for i in range(len(kVals)):\n",
    "    k = kVals[i]\n",
    "    # Build the validation set\n",
    "    validationStart = VALIDATION_BLOCK_SIZE * i\n",
    "    validationEnd = VALIDATION_BLOCK_SIZE * (i + 1)\n",
    "    validationBlock = trainingData[validationStart : validationEnd]\n",
    "    validationResults = trainingResults[validationStart : validationEnd]\n",
    "    # Build the nonvalidation set\n",
    "    nonValidationBlock = []\n",
    "    nonValidationResults = []\n",
    "    for j in range(len(trainingData)):\n",
    "        if j < validationStart or j >= validationEnd:\n",
    "            nonValidationBlock.append(trainingData[j])\n",
    "            nonValidationResults.append(trainingResults[j])\n",
    "    # Calculate validation error\n",
    "    validationError = getValidationError(validationBlock, validationResults, nonValidationBlock, nonValidationResults, k)\n",
    "    validationErrors.append(validationError)"
   ]
  },
  {
   "cell_type": "code",
   "execution_count": 7,
   "metadata": {
    "collapsed": false,
    "deletable": true,
    "editable": true
   },
   "outputs": [
    {
     "data": {
      "image/png": "[encoded data removed]",
      "text/plain": [
       "<matplotlib.figure.Figure at 0x112631c50>"
      ]
     },
     "metadata": {},
     "output_type": "display_data"
    }
   ],
   "source": [
    "from matplotlib import pyplot as plt\n",
    "\n",
    "plt.plot(kVals, validationErrors)\n",
    "plt.title(\"k-Choice and validation error on k-NN digit classification\")\n",
    "plt.xlabel(\"k value\")\n",
    "plt.xscale('log')\n",
    "plt.ylabel(\"validation error\")\n",
    "plt.show()"
   ]
  },
  {
   "cell_type": "code",
   "execution_count": null,
   "metadata": {
    "collapsed": true,
    "deletable": true,
    "editable": true
   },
   "outputs": [],
   "source": []
  }
 ],
 "metadata": {
  "kernelspec": {
   "display_name": "Python 3",
   "language": "python",
   "name": "python3"
  },
  "language_info": {
   "codemirror_mode": {
    "name": "ipython",
    "version": 3
   },
   "file_extension": ".py",
   "mimetype": "text/x-python",
   "name": "python",
   "nbconvert_exporter": "python",
   "pygments_lexer": "ipython3",
   "version": "3.6.0"
  }
 },
 "nbformat": 4,
 "nbformat_minor": 1
}
